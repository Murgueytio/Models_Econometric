{
 "cells": [
  {
   "cell_type": "markdown",
   "id": "7d837fc3",
   "metadata": {},
   "source": [
    "**Características del GPI**\n",
    "\n",
    "**Valores Positivos**: El GPI no tiene valores negativos. Los valores se escalan para que un número más bajo indique más paz y un número más alto indique menos paz.\n",
    "\n",
    "**Interpretación de los Valores**:\n",
    "\n",
    "- **Valores cercanos a 1**: Indican países extremadamente pacíficos, con pocas preocupaciones sobre la violencia tanto interna como externa. Ejemplos de tales países suelen incluir a Islandia, Nueva Zelanda y Portugal, que consistentemente han mostrado puntuaciones bajas en el GPI.\n",
    "\n",
    "- **Valores cercanos a 5**: Sugerirían países con conflictos significativos, altos niveles de terrorismo, inestabilidad política y fuerte militarización. Ejemplos podrían incluir países como Afganistán, Siria y Sudán del Sur en periodos de alta conflictividad.\n",
    "\n",
    "**Utilidad y Limitaciones**:\n",
    "\n",
    "- **Utilidad**: El GPI es útil para los gobiernos, investigadores, y organizaciones internacionales para entender las tendencias en paz y conflicto, planificar políticas y asignar recursos de manera más efectiva.\n",
    "\n",
    "- **Limitaciones**: **Aunque el GPI proporciona una visión general útil, sus métodos de calificación y los indicadores específicos utilizados pueden no capturar todas las dinámicas de paz y conflicto en cada país. Además, la interpretación de las puntuaciones debe hacerse con cuidado, teniendo en cuenta el contexto histórico, político y social.**"
   ]
  },
  {
   "cell_type": "code",
   "execution_count": null,
   "id": "9c338546",
   "metadata": {},
   "outputs": [],
   "source": []
  }
 ],
 "metadata": {
  "kernelspec": {
   "display_name": "Python 3 (ipykernel)",
   "language": "python",
   "name": "python3"
  },
  "language_info": {
   "codemirror_mode": {
    "name": "ipython",
    "version": 3
   },
   "file_extension": ".py",
   "mimetype": "text/x-python",
   "name": "python",
   "nbconvert_exporter": "python",
   "pygments_lexer": "ipython3",
   "version": "3.10.8"
  }
 },
 "nbformat": 4,
 "nbformat_minor": 5
}
